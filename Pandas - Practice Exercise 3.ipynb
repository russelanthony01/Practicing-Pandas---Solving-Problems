{
 "cells": [
  {
   "cell_type": "markdown",
   "id": "da1d7af3-4169-4969-b4f4-ab663f6b1ba6",
   "metadata": {},
   "source": [
    "*Importing pandas.*"
   ]
  },
  {
   "cell_type": "code",
   "execution_count": 1,
   "id": "49df743f-d4f7-486f-861c-3065b8949e6a",
   "metadata": {},
   "outputs": [],
   "source": [
    "import pandas as pd"
   ]
  },
  {
   "cell_type": "markdown",
   "id": "aca2ffd0-bcfa-48ee-9f1c-10d42c49ab0f",
   "metadata": {},
   "source": [
    "*Loading the dataset.*"
   ]
  },
  {
   "cell_type": "code",
   "execution_count": 2,
   "id": "0c884146-93be-4056-9137-0ed1747cac2a",
   "metadata": {},
   "outputs": [],
   "source": [
    "df_movies = pd.read_csv('User_Movie_Ratings.csv', index_col = 'User')\n",
    "\n",
    "df_cars = pd.read_csv('carprices.csv', index_col = None)\n",
    "\n",
    "buffet_data = pd.read_csv('Buffet_Details.csv')"
   ]
  },
  {
   "cell_type": "markdown",
   "id": "3f616742-c985-45a2-a17a-5bf8cc5893ab",
   "metadata": {},
   "source": [
    "### ❓ Question  \n",
    "\n",
    "*Accesses the ratings of the movies ‘Thor’, ‘Spiderman’, and ‘Insidious’ from the df_movies dataframe?*"
   ]
  },
  {
   "cell_type": "code",
   "execution_count": 3,
   "id": "64bed203-bd4c-40f4-9a5d-ae45ee7c67e3",
   "metadata": {},
   "outputs": [
    {
     "data": {
      "text/plain": [
       "Index(['Thor', 'Justice League', 'Spiderman', 'The Notebook', 'Casablanca',\n",
       "       'Beauty and the Beast', 'Dolittle', 'The Kissing Booth', 'Annabelle',\n",
       "       'Insidious'],\n",
       "      dtype='object')"
      ]
     },
     "execution_count": 3,
     "metadata": {},
     "output_type": "execute_result"
    }
   ],
   "source": [
    "df_movies.columns"
   ]
  },
  {
   "cell_type": "code",
   "execution_count": 4,
   "id": "c4bb8682-348b-4f1b-95cf-2f05bc90a6fd",
   "metadata": {},
   "outputs": [
    {
     "data": {
      "text/html": [
       "<div>\n",
       "<style scoped>\n",
       "    .dataframe tbody tr th:only-of-type {\n",
       "        vertical-align: middle;\n",
       "    }\n",
       "\n",
       "    .dataframe tbody tr th {\n",
       "        vertical-align: top;\n",
       "    }\n",
       "\n",
       "    .dataframe thead th {\n",
       "        text-align: right;\n",
       "    }\n",
       "</style>\n",
       "<table border=\"1\" class=\"dataframe\">\n",
       "  <thead>\n",
       "    <tr style=\"text-align: right;\">\n",
       "      <th></th>\n",
       "      <th>Thor</th>\n",
       "      <th>Spiderman</th>\n",
       "      <th>Insidious</th>\n",
       "    </tr>\n",
       "    <tr>\n",
       "      <th>User</th>\n",
       "      <th></th>\n",
       "      <th></th>\n",
       "      <th></th>\n",
       "    </tr>\n",
       "  </thead>\n",
       "  <tbody>\n",
       "    <tr>\n",
       "      <th>Arnold</th>\n",
       "      <td>6</td>\n",
       "      <td>6</td>\n",
       "      <td>1</td>\n",
       "    </tr>\n",
       "    <tr>\n",
       "      <th>Ben</th>\n",
       "      <td>9</td>\n",
       "      <td>8</td>\n",
       "      <td>8</td>\n",
       "    </tr>\n",
       "    <tr>\n",
       "      <th>Catherine</th>\n",
       "      <td>10</td>\n",
       "      <td>9</td>\n",
       "      <td>9</td>\n",
       "    </tr>\n",
       "    <tr>\n",
       "      <th>Disha</th>\n",
       "      <td>6</td>\n",
       "      <td>7</td>\n",
       "      <td>6</td>\n",
       "    </tr>\n",
       "    <tr>\n",
       "      <th>Euclid</th>\n",
       "      <td>7</td>\n",
       "      <td>3</td>\n",
       "      <td>7</td>\n",
       "    </tr>\n",
       "    <tr>\n",
       "      <th>Farhaan</th>\n",
       "      <td>6</td>\n",
       "      <td>9</td>\n",
       "      <td>4</td>\n",
       "    </tr>\n",
       "    <tr>\n",
       "      <th>Gaurav</th>\n",
       "      <td>8</td>\n",
       "      <td>9</td>\n",
       "      <td>7</td>\n",
       "    </tr>\n",
       "    <tr>\n",
       "      <th>Hilbert</th>\n",
       "      <td>6</td>\n",
       "      <td>8</td>\n",
       "      <td>1</td>\n",
       "    </tr>\n",
       "    <tr>\n",
       "      <th>Indira</th>\n",
       "      <td>10</td>\n",
       "      <td>9</td>\n",
       "      <td>8</td>\n",
       "    </tr>\n",
       "    <tr>\n",
       "      <th>Jason</th>\n",
       "      <td>10</td>\n",
       "      <td>9</td>\n",
       "      <td>4</td>\n",
       "    </tr>\n",
       "    <tr>\n",
       "      <th>Kenny</th>\n",
       "      <td>3</td>\n",
       "      <td>5</td>\n",
       "      <td>3</td>\n",
       "    </tr>\n",
       "    <tr>\n",
       "      <th>Lambert</th>\n",
       "      <td>5</td>\n",
       "      <td>4</td>\n",
       "      <td>9</td>\n",
       "    </tr>\n",
       "    <tr>\n",
       "      <th>Manish</th>\n",
       "      <td>7</td>\n",
       "      <td>6</td>\n",
       "      <td>5</td>\n",
       "    </tr>\n",
       "    <tr>\n",
       "      <th>Niti</th>\n",
       "      <td>3</td>\n",
       "      <td>2</td>\n",
       "      <td>5</td>\n",
       "    </tr>\n",
       "    <tr>\n",
       "      <th>Oliver</th>\n",
       "      <td>4</td>\n",
       "      <td>4</td>\n",
       "      <td>2</td>\n",
       "    </tr>\n",
       "    <tr>\n",
       "      <th>Pranav</th>\n",
       "      <td>8</td>\n",
       "      <td>8</td>\n",
       "      <td>7</td>\n",
       "    </tr>\n",
       "    <tr>\n",
       "      <th>Qader</th>\n",
       "      <td>8</td>\n",
       "      <td>8</td>\n",
       "      <td>5</td>\n",
       "    </tr>\n",
       "    <tr>\n",
       "      <th>Ravi</th>\n",
       "      <td>8</td>\n",
       "      <td>9</td>\n",
       "      <td>10</td>\n",
       "    </tr>\n",
       "    <tr>\n",
       "      <th>Sushant</th>\n",
       "      <td>5</td>\n",
       "      <td>6</td>\n",
       "      <td>5</td>\n",
       "    </tr>\n",
       "    <tr>\n",
       "      <th>Tavneet</th>\n",
       "      <td>1</td>\n",
       "      <td>4</td>\n",
       "      <td>5</td>\n",
       "    </tr>\n",
       "  </tbody>\n",
       "</table>\n",
       "</div>"
      ],
      "text/plain": [
       "           Thor  Spiderman  Insidious\n",
       "User                                 \n",
       "Arnold        6          6          1\n",
       "Ben           9          8          8\n",
       "Catherine    10          9          9\n",
       "Disha         6          7          6\n",
       "Euclid        7          3          7\n",
       "Farhaan       6          9          4\n",
       "Gaurav        8          9          7\n",
       "Hilbert       6          8          1\n",
       "Indira       10          9          8\n",
       "Jason        10          9          4\n",
       "Kenny         3          5          3\n",
       "Lambert       5          4          9\n",
       "Manish        7          6          5\n",
       "Niti          3          2          5\n",
       "Oliver        4          4          2\n",
       "Pranav        8          8          7\n",
       "Qader         8          8          5\n",
       "Ravi          8          9         10\n",
       "Sushant       5          6          5\n",
       "Tavneet       1          4          5"
      ]
     },
     "execution_count": 4,
     "metadata": {},
     "output_type": "execute_result"
    }
   ],
   "source": [
    "df_movies[['Thor', 'Spiderman','Insidious']]"
   ]
  },
  {
   "cell_type": "markdown",
   "id": "1e57a1e9-a594-4f98-b8c8-a2f4c704ba91",
   "metadata": {},
   "source": [
    "### ❓ Question  \n",
    "\n",
    "*Which car's information is stored in the 78th row of the `df_cars` dataframe?*"
   ]
  },
  {
   "cell_type": "code",
   "execution_count": 5,
   "id": "f6b1602e-0c0b-4f35-869c-9ab739b7ac07",
   "metadata": {},
   "outputs": [
    {
     "data": {
      "text/plain": [
       "'mitsubishi lancer'"
      ]
     },
     "execution_count": 5,
     "metadata": {},
     "output_type": "execute_result"
    }
   ],
   "source": [
    "df_cars.iloc[77]['carname']"
   ]
  },
  {
   "cell_type": "markdown",
   "id": "9195706d-c962-4f77-bfe0-ff56ff138315",
   "metadata": {},
   "source": [
    "### ❓ Question  \n",
    "\n",
    "*How can we retrieve the rating ‘Indira’ gave to the movie ‘Annabelle’ in the df_movies dataframe?*"
   ]
  },
  {
   "cell_type": "code",
   "execution_count": 6,
   "id": "72ac4b61-7235-41ba-9c57-7ec8546e48e9",
   "metadata": {},
   "outputs": [
    {
     "data": {
      "text/html": [
       "<div>\n",
       "<style scoped>\n",
       "    .dataframe tbody tr th:only-of-type {\n",
       "        vertical-align: middle;\n",
       "    }\n",
       "\n",
       "    .dataframe tbody tr th {\n",
       "        vertical-align: top;\n",
       "    }\n",
       "\n",
       "    .dataframe thead th {\n",
       "        text-align: right;\n",
       "    }\n",
       "</style>\n",
       "<table border=\"1\" class=\"dataframe\">\n",
       "  <thead>\n",
       "    <tr style=\"text-align: right;\">\n",
       "      <th></th>\n",
       "      <th>Thor</th>\n",
       "      <th>Justice League</th>\n",
       "      <th>Spiderman</th>\n",
       "      <th>The Notebook</th>\n",
       "      <th>Casablanca</th>\n",
       "      <th>Beauty and the Beast</th>\n",
       "      <th>Dolittle</th>\n",
       "      <th>The Kissing Booth</th>\n",
       "      <th>Annabelle</th>\n",
       "      <th>Insidious</th>\n",
       "    </tr>\n",
       "    <tr>\n",
       "      <th>User</th>\n",
       "      <th></th>\n",
       "      <th></th>\n",
       "      <th></th>\n",
       "      <th></th>\n",
       "      <th></th>\n",
       "      <th></th>\n",
       "      <th></th>\n",
       "      <th></th>\n",
       "      <th></th>\n",
       "      <th></th>\n",
       "    </tr>\n",
       "  </thead>\n",
       "  <tbody>\n",
       "    <tr>\n",
       "      <th>Arnold</th>\n",
       "      <td>6</td>\n",
       "      <td>5</td>\n",
       "      <td>6</td>\n",
       "      <td>4</td>\n",
       "      <td>5</td>\n",
       "      <td>4</td>\n",
       "      <td>9</td>\n",
       "      <td>8</td>\n",
       "      <td>2</td>\n",
       "      <td>1</td>\n",
       "    </tr>\n",
       "    <tr>\n",
       "      <th>Ben</th>\n",
       "      <td>9</td>\n",
       "      <td>10</td>\n",
       "      <td>8</td>\n",
       "      <td>3</td>\n",
       "      <td>1</td>\n",
       "      <td>1</td>\n",
       "      <td>2</td>\n",
       "      <td>5</td>\n",
       "      <td>7</td>\n",
       "      <td>8</td>\n",
       "    </tr>\n",
       "    <tr>\n",
       "      <th>Catherine</th>\n",
       "      <td>10</td>\n",
       "      <td>8</td>\n",
       "      <td>9</td>\n",
       "      <td>5</td>\n",
       "      <td>6</td>\n",
       "      <td>7</td>\n",
       "      <td>8</td>\n",
       "      <td>5</td>\n",
       "      <td>9</td>\n",
       "      <td>9</td>\n",
       "    </tr>\n",
       "  </tbody>\n",
       "</table>\n",
       "</div>"
      ],
      "text/plain": [
       "           Thor  Justice League  Spiderman  The Notebook  Casablanca  \\\n",
       "User                                                                   \n",
       "Arnold        6               5          6             4           5   \n",
       "Ben           9              10          8             3           1   \n",
       "Catherine    10               8          9             5           6   \n",
       "\n",
       "           Beauty and the Beast  Dolittle  The Kissing Booth  Annabelle  \\\n",
       "User                                                                      \n",
       "Arnold                        4         9                  8          2   \n",
       "Ben                           1         2                  5          7   \n",
       "Catherine                     7         8                  5          9   \n",
       "\n",
       "           Insidious  \n",
       "User                  \n",
       "Arnold             1  \n",
       "Ben                8  \n",
       "Catherine          9  "
      ]
     },
     "execution_count": 6,
     "metadata": {},
     "output_type": "execute_result"
    }
   ],
   "source": [
    "df_movies.head(n=3)"
   ]
  },
  {
   "cell_type": "code",
   "execution_count": 7,
   "id": "c42f5838-7c20-4f55-967b-91cdf3aace1f",
   "metadata": {
    "scrolled": true
   },
   "outputs": [
    {
     "name": "stdout",
     "output_type": "stream",
     "text": [
      "Rating given by Indria to the movie Annabelle: 6\n"
     ]
    }
   ],
   "source": [
    "print (f\"Rating given by Indria to the movie Annabelle: {df_movies.loc[\"Indira\",\"Annabelle\"]}\")"
   ]
  },
  {
   "cell_type": "markdown",
   "id": "7bc45304-a46a-4c8c-9582-32190a07a3e8",
   "metadata": {},
   "source": [
    "### ❓ Question  \n",
    "\n",
    "*Write the Pandas code to select the rows for `Manish and Ravi`, but only the columns from `Thor through Spiderman`.*"
   ]
  },
  {
   "cell_type": "code",
   "execution_count": 8,
   "id": "50c8a313-b2b5-42b9-b6fa-3babf0d840b8",
   "metadata": {},
   "outputs": [
    {
     "data": {
      "text/html": [
       "<div>\n",
       "<style scoped>\n",
       "    .dataframe tbody tr th:only-of-type {\n",
       "        vertical-align: middle;\n",
       "    }\n",
       "\n",
       "    .dataframe tbody tr th {\n",
       "        vertical-align: top;\n",
       "    }\n",
       "\n",
       "    .dataframe thead th {\n",
       "        text-align: right;\n",
       "    }\n",
       "</style>\n",
       "<table border=\"1\" class=\"dataframe\">\n",
       "  <thead>\n",
       "    <tr style=\"text-align: right;\">\n",
       "      <th></th>\n",
       "      <th>Thor</th>\n",
       "      <th>Justice League</th>\n",
       "      <th>Spiderman</th>\n",
       "    </tr>\n",
       "    <tr>\n",
       "      <th>User</th>\n",
       "      <th></th>\n",
       "      <th></th>\n",
       "      <th></th>\n",
       "    </tr>\n",
       "  </thead>\n",
       "  <tbody>\n",
       "    <tr>\n",
       "      <th>Manish</th>\n",
       "      <td>7</td>\n",
       "      <td>6</td>\n",
       "      <td>6</td>\n",
       "    </tr>\n",
       "    <tr>\n",
       "      <th>Ravi</th>\n",
       "      <td>8</td>\n",
       "      <td>7</td>\n",
       "      <td>9</td>\n",
       "    </tr>\n",
       "  </tbody>\n",
       "</table>\n",
       "</div>"
      ],
      "text/plain": [
       "        Thor  Justice League  Spiderman\n",
       "User                                   \n",
       "Manish     7               6          6\n",
       "Ravi       8               7          9"
      ]
     },
     "execution_count": 8,
     "metadata": {},
     "output_type": "execute_result"
    }
   ],
   "source": [
    "df_movies.loc[['Manish', 'Ravi'], 'Thor':'Spiderman']"
   ]
  },
  {
   "cell_type": "markdown",
   "id": "c8a67b6b-72b1-4973-9af5-8bca9ee14598",
   "metadata": {},
   "source": [
    "### ❓ Question  \n",
    "\n",
    "*How can you determine the number of sedans in the df_cars dataframe?*"
   ]
  },
  {
   "cell_type": "code",
   "execution_count": 9,
   "id": "bde3ef09-063e-4bfd-ab08-e726bfb86fa7",
   "metadata": {},
   "outputs": [
    {
     "data": {
      "text/plain": [
       "96"
      ]
     },
     "execution_count": 9,
     "metadata": {},
     "output_type": "execute_result"
    }
   ],
   "source": [
    "df_cars[df_cars['carbody'] == 'sedan'].shape[0]"
   ]
  },
  {
   "cell_type": "code",
   "execution_count": 10,
   "id": "1bfaa5e6-0dcf-4816-9044-9c59b48b5af2",
   "metadata": {},
   "outputs": [
    {
     "data": {
      "text/plain": [
       "96"
      ]
     },
     "execution_count": 10,
     "metadata": {},
     "output_type": "execute_result"
    }
   ],
   "source": [
    "len(df_cars[df_cars['carbody'] == 'sedan'])"
   ]
  },
  {
   "cell_type": "markdown",
   "id": "feb899f1-79b2-4f3c-b127-cf44510b0e98",
   "metadata": {},
   "source": [
    "### ❓ Question  \n",
    "\n",
    "*Let’s say you want to know how many users in the df_movies dataframe rated more than 7 for Thor and Spiderman but rated 7 or less for Dolittle.*"
   ]
  },
  {
   "cell_type": "code",
   "execution_count": 11,
   "id": "0becce36-37b2-4863-a236-953d6e4a3dad",
   "metadata": {},
   "outputs": [
    {
     "name": "stdout",
     "output_type": "stream",
     "text": [
      "<class 'pandas.core.frame.DataFrame'>\n",
      "Index: 20 entries, Arnold to Tavneet\n",
      "Data columns (total 10 columns):\n",
      " #   Column                Non-Null Count  Dtype\n",
      "---  ------                --------------  -----\n",
      " 0   Thor                  20 non-null     int64\n",
      " 1   Justice League        20 non-null     int64\n",
      " 2   Spiderman             20 non-null     int64\n",
      " 3   The Notebook          20 non-null     int64\n",
      " 4   Casablanca            20 non-null     int64\n",
      " 5   Beauty and the Beast  20 non-null     int64\n",
      " 6   Dolittle              20 non-null     int64\n",
      " 7   The Kissing Booth     20 non-null     int64\n",
      " 8   Annabelle             20 non-null     int64\n",
      " 9   Insidious             20 non-null     int64\n",
      "dtypes: int64(10)\n",
      "memory usage: 2.3+ KB\n"
     ]
    }
   ],
   "source": [
    "df_movies.info()"
   ]
  },
  {
   "cell_type": "code",
   "execution_count": 12,
   "id": "6ca6f220-788d-4b11-851b-619aba40406f",
   "metadata": {},
   "outputs": [
    {
     "data": {
      "text/plain": [
       "6"
      ]
     },
     "execution_count": 12,
     "metadata": {},
     "output_type": "execute_result"
    }
   ],
   "source": [
    "df_movies [(df_movies['Thor'] > 7) & (df_movies['Spiderman'] > 7) & (df_movies['Dolittle'] <= 7)][['Thor','Spiderman','Dolittle']].shape[0]"
   ]
  },
  {
   "cell_type": "markdown",
   "id": "ed278d04-40d9-444c-bf9e-54565a165e7e",
   "metadata": {},
   "source": [
    "### ❓ Question  \n",
    "\n",
    "*Each car in the `df_cars` DataFrame has columns for spatial dimensions (`carlength`, `carwidth`, `carheight`) and for weight (`curbweight`).*  \n",
    "\n",
    "*How would you calculate the **density** of each car in `df_cars` using the above data and store the values in a new column called `density`?*  \n",
    "\n",
    "*Note:*  \n",
    "\n",
    "- *Density = Mass / Volume*  \n",
    "- *Volume = length × width × height*  "
   ]
  },
  {
   "cell_type": "code",
   "execution_count": 13,
   "id": "7a9c42ee-3dfb-431f-9c0e-f5a41699bffd",
   "metadata": {},
   "outputs": [
    {
     "data": {
      "text/plain": [
       "Index(['car_ID', 'symboling', 'carname', 'doornumber', 'carbody',\n",
       "       'enginelocation', 'wheelbase', 'carlength', 'carwidth', 'carheight',\n",
       "       'curbweight', 'cylindernumber', 'enginesize', 'boreratio', 'stroke',\n",
       "       'compressionratio', 'horsepower', 'peakrpm', 'citympg', 'highwaympg',\n",
       "       'price'],\n",
       "      dtype='object')"
      ]
     },
     "execution_count": 13,
     "metadata": {},
     "output_type": "execute_result"
    }
   ],
   "source": [
    "df_cars.columns"
   ]
  },
  {
   "cell_type": "code",
   "execution_count": 14,
   "id": "35317564-c4c6-44a4-b9e3-3efef0262459",
   "metadata": {},
   "outputs": [
    {
     "data": {
      "text/plain": [
       "carlength    0\n",
       "carwidth     0\n",
       "carheight    0\n",
       "dtype: int64"
      ]
     },
     "execution_count": 14,
     "metadata": {},
     "output_type": "execute_result"
    }
   ],
   "source": [
    "df_cars[['carlength', 'carwidth', 'carheight']].isnull().sum()"
   ]
  },
  {
   "cell_type": "code",
   "execution_count": 15,
   "id": "074f1b11-29a2-44cc-9a39-dee2f6f1880d",
   "metadata": {},
   "outputs": [],
   "source": [
    "Volume = df_cars ['carlength'] * df_cars ['carwidth'] * df_cars ['carheight']\n",
    "df_cars ['Density'] = df_cars ['curbweight'] / Volume"
   ]
  },
  {
   "cell_type": "code",
   "execution_count": 16,
   "id": "72ae834e-b6b1-48fd-ba80-6d9af1d15244",
   "metadata": {},
   "outputs": [
    {
     "data": {
      "text/plain": [
       "0    0.004826\n",
       "1    0.004826\n",
       "2    0.004804\n",
       "Name: Density, dtype: float64"
      ]
     },
     "execution_count": 16,
     "metadata": {},
     "output_type": "execute_result"
    }
   ],
   "source": [
    "df_cars['Density'].head(3)"
   ]
  },
  {
   "cell_type": "markdown",
   "id": "93b92d58-0b89-4341-976d-107b492dd9e7",
   "metadata": {},
   "source": [
    "### ❓ Question  \n",
    "\n",
    "*Find the mean action movie rating for each user without using the mean function in the dataframe df_movies without modifying the original dataframe and identify users whose mean action movie ratings are more than 8.*"
   ]
  },
  {
   "cell_type": "code",
   "execution_count": 17,
   "id": "2648de0d-0618-4354-ae66-f42cfeadf8e7",
   "metadata": {},
   "outputs": [
    {
     "data": {
      "text/plain": [
       "Index(['Ben', 'Catherine', 'Gaurav', 'Indira', 'Jason', 'Pranav'], dtype='object', name='User')"
      ]
     },
     "execution_count": 17,
     "metadata": {},
     "output_type": "execute_result"
    }
   ],
   "source": [
    "action_movies = (df_movies['Thor'] + df_movies['Justice League'] + df_movies['Spiderman']) / 3\n",
    "action_movies[action_movies > 8].index"
   ]
  },
  {
   "cell_type": "markdown",
   "id": "9d38cc58-91fa-4761-ad0a-eb9cd235a65b",
   "metadata": {},
   "source": [
    "### ❓ Question  \n",
    "\n",
    "*What is the price difference between the most and least expensive cars in the df_cars dataframe?*"
   ]
  },
  {
   "cell_type": "code",
   "execution_count": 18,
   "id": "8b6c33ee-21dd-4a4a-bbf3-1e67b0a36439",
   "metadata": {},
   "outputs": [
    {
     "data": {
      "text/plain": [
       "Index(['car_ID', 'symboling', 'carname', 'doornumber', 'carbody',\n",
       "       'enginelocation', 'wheelbase', 'carlength', 'carwidth', 'carheight',\n",
       "       'curbweight', 'cylindernumber', 'enginesize', 'boreratio', 'stroke',\n",
       "       'compressionratio', 'horsepower', 'peakrpm', 'citympg', 'highwaympg',\n",
       "       'price', 'Density'],\n",
       "      dtype='object')"
      ]
     },
     "execution_count": 18,
     "metadata": {},
     "output_type": "execute_result"
    }
   ],
   "source": [
    "df_cars.columns"
   ]
  },
  {
   "cell_type": "code",
   "execution_count": 19,
   "id": "469e599a-f346-4965-b552-8af952918ecd",
   "metadata": {},
   "outputs": [
    {
     "name": "stdout",
     "output_type": "stream",
     "text": [
      "The price difference between the most and least expensive car: 40282.0\n"
     ]
    }
   ],
   "source": [
    "print(f\"The price difference between the most and least expensive car: {df_cars['price'].max() - df_cars['price'].min()}\")"
   ]
  },
  {
   "cell_type": "markdown",
   "id": "02834749-8054-4f86-83af-5cf5476056d8",
   "metadata": {},
   "source": [
    "### ❓ Question  \n",
    "\n",
    "*If you take the mean rating as a measure of popularity, which one of the following can be used to find the name of the most popular movie?*  \n",
    "\n",
    "*NOTE: There can be more than one correct option.*  \n",
    "\n",
    "**Options:**  \n",
    "1. `df_movies.describe().transpose()['mean'].idxmax()`  \n",
    "2. `df_movies.describe().loc['mean'].idxmax()`  \n",
    "3. `df_movies.mean().max()`  \n",
    "4. `df_movies.describe().transpose().max()['mean']`  \n"
   ]
  },
  {
   "cell_type": "code",
   "execution_count": 20,
   "id": "9d44d78a-d1ab-4e84-96b5-13aa716fd607",
   "metadata": {},
   "outputs": [
    {
     "data": {
      "text/plain": [
       "'Spiderman'"
      ]
     },
     "execution_count": 20,
     "metadata": {},
     "output_type": "execute_result"
    }
   ],
   "source": [
    "df_movies.describe().transpose()['mean'].idxmax()"
   ]
  },
  {
   "cell_type": "code",
   "execution_count": 21,
   "id": "127c94a4-00a4-480f-af47-545773f129a5",
   "metadata": {},
   "outputs": [
    {
     "data": {
      "text/plain": [
       "'Spiderman'"
      ]
     },
     "execution_count": 21,
     "metadata": {},
     "output_type": "execute_result"
    }
   ],
   "source": [
    "df_movies.describe().loc['mean'].idxmax()"
   ]
  },
  {
   "cell_type": "markdown",
   "id": "fa823ee4-3c26-4467-a703-0ea2b95d8700",
   "metadata": {},
   "source": [
    "### ❓ Question  \n",
    "\n",
    "*How can you determine the number of cars with two doors or four doors in the df_cars dataframe?*"
   ]
  },
  {
   "cell_type": "code",
   "execution_count": 22,
   "id": "7e6b8ddf-74e3-45a1-9f79-4d156024706f",
   "metadata": {},
   "outputs": [
    {
     "data": {
      "text/plain": [
       "Index(['car_ID', 'symboling', 'carname', 'doornumber', 'carbody',\n",
       "       'enginelocation', 'wheelbase', 'carlength', 'carwidth', 'carheight',\n",
       "       'curbweight', 'cylindernumber', 'enginesize', 'boreratio', 'stroke',\n",
       "       'compressionratio', 'horsepower', 'peakrpm', 'citympg', 'highwaympg',\n",
       "       'price', 'Density'],\n",
       "      dtype='object')"
      ]
     },
     "execution_count": 22,
     "metadata": {},
     "output_type": "execute_result"
    }
   ],
   "source": [
    "df_cars.columns"
   ]
  },
  {
   "cell_type": "code",
   "execution_count": 23,
   "id": "e624e33e-c0a4-4f3a-b28f-2dc8de30e682",
   "metadata": {},
   "outputs": [
    {
     "data": {
      "text/plain": [
       "0       two\n",
       "1       two\n",
       "2       two\n",
       "3      four\n",
       "4      four\n",
       "       ... \n",
       "200    four\n",
       "201    four\n",
       "202    four\n",
       "203    four\n",
       "204    four\n",
       "Name: doornumber, Length: 205, dtype: object"
      ]
     },
     "execution_count": 23,
     "metadata": {},
     "output_type": "execute_result"
    }
   ],
   "source": [
    "df_cars ['doornumber']"
   ]
  },
  {
   "cell_type": "code",
   "execution_count": 24,
   "id": "5718ae22-ee8d-4fd7-ad28-b1322702d01e",
   "metadata": {},
   "outputs": [
    {
     "data": {
      "text/plain": [
       "doornumber\n",
       "four    115\n",
       "two      90\n",
       "Name: count, dtype: int64"
      ]
     },
     "execution_count": 24,
     "metadata": {},
     "output_type": "execute_result"
    }
   ],
   "source": [
    "df_cars['doornumber'].value_counts()"
   ]
  },
  {
   "cell_type": "code",
   "execution_count": 25,
   "id": "6b69a55b-6373-4633-8335-dc50562d935c",
   "metadata": {},
   "outputs": [
    {
     "name": "stdout",
     "output_type": "stream",
     "text": [
      "Total number: 205\n"
     ]
    }
   ],
   "source": [
    "print (f\"Total number: {df_cars[df_cars ['doornumber'].isin((\"two\",\"four\"))]['car_ID'].shape[0]}\")"
   ]
  },
  {
   "cell_type": "markdown",
   "id": "7daf8049-e11d-4fa7-bd86-91816ba96757",
   "metadata": {},
   "source": [
    "### ❓ Question  \n",
    "\n",
    "*How can you summarise the dataframe df_cars by grouping it based on the type of car body and calculating the median price and mean horsepower for each group?*  \n"
   ]
  },
  {
   "cell_type": "code",
   "execution_count": 26,
   "id": "e23713d8-776e-4b17-afc1-f77859f218c7",
   "metadata": {},
   "outputs": [
    {
     "data": {
      "text/plain": [
       "Index(['car_ID', 'symboling', 'carname', 'doornumber', 'carbody',\n",
       "       'enginelocation', 'wheelbase', 'carlength', 'carwidth', 'carheight',\n",
       "       'curbweight', 'cylindernumber', 'enginesize', 'boreratio', 'stroke',\n",
       "       'compressionratio', 'horsepower', 'peakrpm', 'citympg', 'highwaympg',\n",
       "       'price', 'Density'],\n",
       "      dtype='object')"
      ]
     },
     "execution_count": 26,
     "metadata": {},
     "output_type": "execute_result"
    }
   ],
   "source": [
    "df_cars.columns"
   ]
  },
  {
   "cell_type": "code",
   "execution_count": 27,
   "id": "de415f22-8ec9-49f0-a7d2-efd12d1f3585",
   "metadata": {},
   "outputs": [
    {
     "data": {
      "text/html": [
       "<div>\n",
       "<style scoped>\n",
       "    .dataframe tbody tr th:only-of-type {\n",
       "        vertical-align: middle;\n",
       "    }\n",
       "\n",
       "    .dataframe tbody tr th {\n",
       "        vertical-align: top;\n",
       "    }\n",
       "\n",
       "    .dataframe thead th {\n",
       "        text-align: right;\n",
       "    }\n",
       "</style>\n",
       "<table border=\"1\" class=\"dataframe\">\n",
       "  <thead>\n",
       "    <tr style=\"text-align: right;\">\n",
       "      <th></th>\n",
       "      <th>price</th>\n",
       "      <th>horsepower</th>\n",
       "    </tr>\n",
       "    <tr>\n",
       "      <th>carbody</th>\n",
       "      <th></th>\n",
       "      <th></th>\n",
       "    </tr>\n",
       "  </thead>\n",
       "  <tbody>\n",
       "    <tr>\n",
       "      <th>convertible</th>\n",
       "      <td>17084.5</td>\n",
       "      <td>131.666667</td>\n",
       "    </tr>\n",
       "    <tr>\n",
       "      <th>hardtop</th>\n",
       "      <td>19687.5</td>\n",
       "      <td>142.250000</td>\n",
       "    </tr>\n",
       "    <tr>\n",
       "      <th>hatchback</th>\n",
       "      <td>8897.0</td>\n",
       "      <td>101.171429</td>\n",
       "    </tr>\n",
       "    <tr>\n",
       "      <th>sedan</th>\n",
       "      <td>10846.5</td>\n",
       "      <td>103.104167</td>\n",
       "    </tr>\n",
       "    <tr>\n",
       "      <th>wagon</th>\n",
       "      <td>11694.0</td>\n",
       "      <td>97.440000</td>\n",
       "    </tr>\n",
       "  </tbody>\n",
       "</table>\n",
       "</div>"
      ],
      "text/plain": [
       "               price  horsepower\n",
       "carbody                         \n",
       "convertible  17084.5  131.666667\n",
       "hardtop      19687.5  142.250000\n",
       "hatchback     8897.0  101.171429\n",
       "sedan        10846.5  103.104167\n",
       "wagon        11694.0   97.440000"
      ]
     },
     "execution_count": 27,
     "metadata": {},
     "output_type": "execute_result"
    }
   ],
   "source": [
    "df_cars.groupby('carbody').aggregate({'price': 'median', 'horsepower': 'mean'})"
   ]
  },
  {
   "cell_type": "markdown",
   "id": "4c489cac-63b7-4a1c-9fb6-f8ad599d9967",
   "metadata": {},
   "source": [
    "### ❓ Question\n",
    "\n",
    "*The indices are 0-N Numbers for the df_cars dataset.*</br>\n",
    "*Now if you want to access df_cars columns by car_ID, what will be your approach?*"
   ]
  },
  {
   "cell_type": "code",
   "execution_count": 28,
   "id": "bd2ddc0a-0b1d-465b-8487-14293eb4122b",
   "metadata": {},
   "outputs": [],
   "source": [
    "df_cars.set_index('car_ID', inplace=True)"
   ]
  },
  {
   "cell_type": "code",
   "execution_count": 29,
   "id": "45cf8edf-6dc0-43da-afc4-b9c19cbe90c9",
   "metadata": {},
   "outputs": [
    {
     "data": {
      "text/html": [
       "<div>\n",
       "<style scoped>\n",
       "    .dataframe tbody tr th:only-of-type {\n",
       "        vertical-align: middle;\n",
       "    }\n",
       "\n",
       "    .dataframe tbody tr th {\n",
       "        vertical-align: top;\n",
       "    }\n",
       "\n",
       "    .dataframe thead th {\n",
       "        text-align: right;\n",
       "    }\n",
       "</style>\n",
       "<table border=\"1\" class=\"dataframe\">\n",
       "  <thead>\n",
       "    <tr style=\"text-align: right;\">\n",
       "      <th></th>\n",
       "      <th>symboling</th>\n",
       "      <th>carname</th>\n",
       "      <th>doornumber</th>\n",
       "      <th>carbody</th>\n",
       "      <th>enginelocation</th>\n",
       "      <th>wheelbase</th>\n",
       "      <th>carlength</th>\n",
       "      <th>carwidth</th>\n",
       "      <th>carheight</th>\n",
       "      <th>curbweight</th>\n",
       "      <th>...</th>\n",
       "      <th>enginesize</th>\n",
       "      <th>boreratio</th>\n",
       "      <th>stroke</th>\n",
       "      <th>compressionratio</th>\n",
       "      <th>horsepower</th>\n",
       "      <th>peakrpm</th>\n",
       "      <th>citympg</th>\n",
       "      <th>highwaympg</th>\n",
       "      <th>price</th>\n",
       "      <th>Density</th>\n",
       "    </tr>\n",
       "    <tr>\n",
       "      <th>car_ID</th>\n",
       "      <th></th>\n",
       "      <th></th>\n",
       "      <th></th>\n",
       "      <th></th>\n",
       "      <th></th>\n",
       "      <th></th>\n",
       "      <th></th>\n",
       "      <th></th>\n",
       "      <th></th>\n",
       "      <th></th>\n",
       "      <th></th>\n",
       "      <th></th>\n",
       "      <th></th>\n",
       "      <th></th>\n",
       "      <th></th>\n",
       "      <th></th>\n",
       "      <th></th>\n",
       "      <th></th>\n",
       "      <th></th>\n",
       "      <th></th>\n",
       "      <th></th>\n",
       "    </tr>\n",
       "  </thead>\n",
       "  <tbody>\n",
       "    <tr>\n",
       "      <th>1</th>\n",
       "      <td>3</td>\n",
       "      <td>alfa-romero giulia</td>\n",
       "      <td>two</td>\n",
       "      <td>convertible</td>\n",
       "      <td>front</td>\n",
       "      <td>88.6</td>\n",
       "      <td>168.8</td>\n",
       "      <td>64.1</td>\n",
       "      <td>48.8</td>\n",
       "      <td>2548</td>\n",
       "      <td>...</td>\n",
       "      <td>130</td>\n",
       "      <td>3.47</td>\n",
       "      <td>2.68</td>\n",
       "      <td>9.0</td>\n",
       "      <td>111</td>\n",
       "      <td>5000</td>\n",
       "      <td>21</td>\n",
       "      <td>27</td>\n",
       "      <td>13495.0</td>\n",
       "      <td>0.004826</td>\n",
       "    </tr>\n",
       "    <tr>\n",
       "      <th>2</th>\n",
       "      <td>3</td>\n",
       "      <td>alfa-romero stelvio</td>\n",
       "      <td>two</td>\n",
       "      <td>convertible</td>\n",
       "      <td>front</td>\n",
       "      <td>88.6</td>\n",
       "      <td>168.8</td>\n",
       "      <td>64.1</td>\n",
       "      <td>48.8</td>\n",
       "      <td>2548</td>\n",
       "      <td>...</td>\n",
       "      <td>130</td>\n",
       "      <td>3.47</td>\n",
       "      <td>2.68</td>\n",
       "      <td>9.0</td>\n",
       "      <td>111</td>\n",
       "      <td>5000</td>\n",
       "      <td>21</td>\n",
       "      <td>27</td>\n",
       "      <td>16500.0</td>\n",
       "      <td>0.004826</td>\n",
       "    </tr>\n",
       "    <tr>\n",
       "      <th>3</th>\n",
       "      <td>1</td>\n",
       "      <td>alfa-romero Quadrifoglio</td>\n",
       "      <td>two</td>\n",
       "      <td>hatchback</td>\n",
       "      <td>front</td>\n",
       "      <td>94.5</td>\n",
       "      <td>171.2</td>\n",
       "      <td>65.5</td>\n",
       "      <td>52.4</td>\n",
       "      <td>2823</td>\n",
       "      <td>...</td>\n",
       "      <td>152</td>\n",
       "      <td>2.68</td>\n",
       "      <td>3.47</td>\n",
       "      <td>9.0</td>\n",
       "      <td>154</td>\n",
       "      <td>5000</td>\n",
       "      <td>19</td>\n",
       "      <td>26</td>\n",
       "      <td>16500.0</td>\n",
       "      <td>0.004804</td>\n",
       "    </tr>\n",
       "    <tr>\n",
       "      <th>4</th>\n",
       "      <td>2</td>\n",
       "      <td>audi 100 ls</td>\n",
       "      <td>four</td>\n",
       "      <td>sedan</td>\n",
       "      <td>front</td>\n",
       "      <td>99.8</td>\n",
       "      <td>176.6</td>\n",
       "      <td>66.2</td>\n",
       "      <td>54.3</td>\n",
       "      <td>2337</td>\n",
       "      <td>...</td>\n",
       "      <td>109</td>\n",
       "      <td>3.19</td>\n",
       "      <td>3.40</td>\n",
       "      <td>10.0</td>\n",
       "      <td>102</td>\n",
       "      <td>5500</td>\n",
       "      <td>24</td>\n",
       "      <td>30</td>\n",
       "      <td>13950.0</td>\n",
       "      <td>0.003681</td>\n",
       "    </tr>\n",
       "    <tr>\n",
       "      <th>5</th>\n",
       "      <td>2</td>\n",
       "      <td>audi 100ls</td>\n",
       "      <td>four</td>\n",
       "      <td>sedan</td>\n",
       "      <td>front</td>\n",
       "      <td>99.4</td>\n",
       "      <td>176.6</td>\n",
       "      <td>66.4</td>\n",
       "      <td>54.3</td>\n",
       "      <td>2824</td>\n",
       "      <td>...</td>\n",
       "      <td>136</td>\n",
       "      <td>3.19</td>\n",
       "      <td>3.40</td>\n",
       "      <td>8.0</td>\n",
       "      <td>115</td>\n",
       "      <td>5500</td>\n",
       "      <td>18</td>\n",
       "      <td>22</td>\n",
       "      <td>17450.0</td>\n",
       "      <td>0.004435</td>\n",
       "    </tr>\n",
       "  </tbody>\n",
       "</table>\n",
       "<p>5 rows × 21 columns</p>\n",
       "</div>"
      ],
      "text/plain": [
       "        symboling                   carname doornumber      carbody  \\\n",
       "car_ID                                                                \n",
       "1               3        alfa-romero giulia        two  convertible   \n",
       "2               3       alfa-romero stelvio        two  convertible   \n",
       "3               1  alfa-romero Quadrifoglio        two    hatchback   \n",
       "4               2               audi 100 ls       four        sedan   \n",
       "5               2                audi 100ls       four        sedan   \n",
       "\n",
       "       enginelocation  wheelbase  carlength  carwidth  carheight  curbweight  \\\n",
       "car_ID                                                                         \n",
       "1               front       88.6      168.8      64.1       48.8        2548   \n",
       "2               front       88.6      168.8      64.1       48.8        2548   \n",
       "3               front       94.5      171.2      65.5       52.4        2823   \n",
       "4               front       99.8      176.6      66.2       54.3        2337   \n",
       "5               front       99.4      176.6      66.4       54.3        2824   \n",
       "\n",
       "        ... enginesize  boreratio  stroke  compressionratio  horsepower  \\\n",
       "car_ID  ...                                                               \n",
       "1       ...        130       3.47    2.68               9.0         111   \n",
       "2       ...        130       3.47    2.68               9.0         111   \n",
       "3       ...        152       2.68    3.47               9.0         154   \n",
       "4       ...        109       3.19    3.40              10.0         102   \n",
       "5       ...        136       3.19    3.40               8.0         115   \n",
       "\n",
       "        peakrpm  citympg  highwaympg    price   Density  \n",
       "car_ID                                                   \n",
       "1          5000       21          27  13495.0  0.004826  \n",
       "2          5000       21          27  16500.0  0.004826  \n",
       "3          5000       19          26  16500.0  0.004804  \n",
       "4          5500       24          30  13950.0  0.003681  \n",
       "5          5500       18          22  17450.0  0.004435  \n",
       "\n",
       "[5 rows x 21 columns]"
      ]
     },
     "execution_count": 29,
     "metadata": {},
     "output_type": "execute_result"
    }
   ],
   "source": [
    "df_cars.head()"
   ]
  }
 ],
 "metadata": {
  "kernelspec": {
   "display_name": "Python 3 (ipykernel)",
   "language": "python",
   "name": "python3"
  },
  "language_info": {
   "codemirror_mode": {
    "name": "ipython",
    "version": 3
   },
   "file_extension": ".py",
   "mimetype": "text/x-python",
   "name": "python",
   "nbconvert_exporter": "python",
   "pygments_lexer": "ipython3",
   "version": "3.12.7"
  }
 },
 "nbformat": 4,
 "nbformat_minor": 5
}
