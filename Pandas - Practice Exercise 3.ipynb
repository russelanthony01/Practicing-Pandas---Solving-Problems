{
 "cells": [
  {
   "cell_type": "markdown",
   "id": "da1d7af3-4169-4969-b4f4-ab663f6b1ba6",
   "metadata": {},
   "source": [
    "*Importing pandas.*"
   ]
  },
  {
   "cell_type": "code",
   "execution_count": 1,
   "id": "49df743f-d4f7-486f-861c-3065b8949e6a",
   "metadata": {},
   "outputs": [],
   "source": [
    "import pandas as pd"
   ]
  },
  {
   "cell_type": "markdown",
   "id": "aca2ffd0-bcfa-48ee-9f1c-10d42c49ab0f",
   "metadata": {},
   "source": [
    "*Loading the dataset.*"
   ]
  },
  {
   "cell_type": "code",
   "execution_count": 2,
   "id": "0c884146-93be-4056-9137-0ed1747cac2a",
   "metadata": {},
   "outputs": [],
   "source": [
    "df_movies = pd.read_csv('User_Movie_Ratings.csv', index_col = 'User')\n",
    "\n",
    "df_cars = pd.read_csv('carprices.csv', index_col = None)\n",
    "\n",
    "buffet_data = pd.read_csv('Buffet_Details.csv')"
   ]
  },
  {
   "cell_type": "markdown",
   "id": "3f616742-c985-45a2-a17a-5bf8cc5893ab",
   "metadata": {},
   "source": [
    "*Accesses the ratings of the movies ‘Thor’, ‘Spiderman’, and ‘Insidious’ from the df_movies dataframe?*"
   ]
  },
  {
   "cell_type": "code",
   "execution_count": 3,
   "id": "64bed203-bd4c-40f4-9a5d-ae45ee7c67e3",
   "metadata": {},
   "outputs": [
    {
     "data": {
      "text/plain": [
       "Index(['Thor', 'Justice League', 'Spiderman', 'The Notebook', 'Casablanca',\n",
       "       'Beauty and the Beast', 'Dolittle', 'The Kissing Booth', 'Annabelle',\n",
       "       'Insidious'],\n",
       "      dtype='object')"
      ]
     },
     "execution_count": 3,
     "metadata": {},
     "output_type": "execute_result"
    }
   ],
   "source": [
    "df_movies.columns"
   ]
  },
  {
   "cell_type": "code",
   "execution_count": 4,
   "id": "c4bb8682-348b-4f1b-95cf-2f05bc90a6fd",
   "metadata": {},
   "outputs": [
    {
     "data": {
      "text/html": [
       "<div>\n",
       "<style scoped>\n",
       "    .dataframe tbody tr th:only-of-type {\n",
       "        vertical-align: middle;\n",
       "    }\n",
       "\n",
       "    .dataframe tbody tr th {\n",
       "        vertical-align: top;\n",
       "    }\n",
       "\n",
       "    .dataframe thead th {\n",
       "        text-align: right;\n",
       "    }\n",
       "</style>\n",
       "<table border=\"1\" class=\"dataframe\">\n",
       "  <thead>\n",
       "    <tr style=\"text-align: right;\">\n",
       "      <th></th>\n",
       "      <th>Thor</th>\n",
       "      <th>Spiderman</th>\n",
       "      <th>Insidious</th>\n",
       "    </tr>\n",
       "    <tr>\n",
       "      <th>User</th>\n",
       "      <th></th>\n",
       "      <th></th>\n",
       "      <th></th>\n",
       "    </tr>\n",
       "  </thead>\n",
       "  <tbody>\n",
       "    <tr>\n",
       "      <th>Arnold</th>\n",
       "      <td>6</td>\n",
       "      <td>6</td>\n",
       "      <td>1</td>\n",
       "    </tr>\n",
       "    <tr>\n",
       "      <th>Ben</th>\n",
       "      <td>9</td>\n",
       "      <td>8</td>\n",
       "      <td>8</td>\n",
       "    </tr>\n",
       "    <tr>\n",
       "      <th>Catherine</th>\n",
       "      <td>10</td>\n",
       "      <td>9</td>\n",
       "      <td>9</td>\n",
       "    </tr>\n",
       "    <tr>\n",
       "      <th>Disha</th>\n",
       "      <td>6</td>\n",
       "      <td>7</td>\n",
       "      <td>6</td>\n",
       "    </tr>\n",
       "    <tr>\n",
       "      <th>Euclid</th>\n",
       "      <td>7</td>\n",
       "      <td>3</td>\n",
       "      <td>7</td>\n",
       "    </tr>\n",
       "    <tr>\n",
       "      <th>Farhaan</th>\n",
       "      <td>6</td>\n",
       "      <td>9</td>\n",
       "      <td>4</td>\n",
       "    </tr>\n",
       "    <tr>\n",
       "      <th>Gaurav</th>\n",
       "      <td>8</td>\n",
       "      <td>9</td>\n",
       "      <td>7</td>\n",
       "    </tr>\n",
       "    <tr>\n",
       "      <th>Hilbert</th>\n",
       "      <td>6</td>\n",
       "      <td>8</td>\n",
       "      <td>1</td>\n",
       "    </tr>\n",
       "    <tr>\n",
       "      <th>Indira</th>\n",
       "      <td>10</td>\n",
       "      <td>9</td>\n",
       "      <td>8</td>\n",
       "    </tr>\n",
       "    <tr>\n",
       "      <th>Jason</th>\n",
       "      <td>10</td>\n",
       "      <td>9</td>\n",
       "      <td>4</td>\n",
       "    </tr>\n",
       "    <tr>\n",
       "      <th>Kenny</th>\n",
       "      <td>3</td>\n",
       "      <td>5</td>\n",
       "      <td>3</td>\n",
       "    </tr>\n",
       "    <tr>\n",
       "      <th>Lambert</th>\n",
       "      <td>5</td>\n",
       "      <td>4</td>\n",
       "      <td>9</td>\n",
       "    </tr>\n",
       "    <tr>\n",
       "      <th>Manish</th>\n",
       "      <td>7</td>\n",
       "      <td>6</td>\n",
       "      <td>5</td>\n",
       "    </tr>\n",
       "    <tr>\n",
       "      <th>Niti</th>\n",
       "      <td>3</td>\n",
       "      <td>2</td>\n",
       "      <td>5</td>\n",
       "    </tr>\n",
       "    <tr>\n",
       "      <th>Oliver</th>\n",
       "      <td>4</td>\n",
       "      <td>4</td>\n",
       "      <td>2</td>\n",
       "    </tr>\n",
       "    <tr>\n",
       "      <th>Pranav</th>\n",
       "      <td>8</td>\n",
       "      <td>8</td>\n",
       "      <td>7</td>\n",
       "    </tr>\n",
       "    <tr>\n",
       "      <th>Qader</th>\n",
       "      <td>8</td>\n",
       "      <td>8</td>\n",
       "      <td>5</td>\n",
       "    </tr>\n",
       "    <tr>\n",
       "      <th>Ravi</th>\n",
       "      <td>8</td>\n",
       "      <td>9</td>\n",
       "      <td>10</td>\n",
       "    </tr>\n",
       "    <tr>\n",
       "      <th>Sushant</th>\n",
       "      <td>5</td>\n",
       "      <td>6</td>\n",
       "      <td>5</td>\n",
       "    </tr>\n",
       "    <tr>\n",
       "      <th>Tavneet</th>\n",
       "      <td>1</td>\n",
       "      <td>4</td>\n",
       "      <td>5</td>\n",
       "    </tr>\n",
       "  </tbody>\n",
       "</table>\n",
       "</div>"
      ],
      "text/plain": [
       "           Thor  Spiderman  Insidious\n",
       "User                                 \n",
       "Arnold        6          6          1\n",
       "Ben           9          8          8\n",
       "Catherine    10          9          9\n",
       "Disha         6          7          6\n",
       "Euclid        7          3          7\n",
       "Farhaan       6          9          4\n",
       "Gaurav        8          9          7\n",
       "Hilbert       6          8          1\n",
       "Indira       10          9          8\n",
       "Jason        10          9          4\n",
       "Kenny         3          5          3\n",
       "Lambert       5          4          9\n",
       "Manish        7          6          5\n",
       "Niti          3          2          5\n",
       "Oliver        4          4          2\n",
       "Pranav        8          8          7\n",
       "Qader         8          8          5\n",
       "Ravi          8          9         10\n",
       "Sushant       5          6          5\n",
       "Tavneet       1          4          5"
      ]
     },
     "execution_count": 4,
     "metadata": {},
     "output_type": "execute_result"
    }
   ],
   "source": [
    "df_movies[['Thor', 'Spiderman','Insidious']]"
   ]
  },
  {
   "cell_type": "markdown",
   "id": "1e57a1e9-a594-4f98-b8c8-a2f4c704ba91",
   "metadata": {},
   "source": [
    "*Which car's information is stored in the 78th row of the `df_cars` dataframe?*"
   ]
  },
  {
   "cell_type": "code",
   "execution_count": 5,
   "id": "f6b1602e-0c0b-4f35-869c-9ab739b7ac07",
   "metadata": {},
   "outputs": [
    {
     "data": {
      "text/plain": [
       "'mitsubishi lancer'"
      ]
     },
     "execution_count": 5,
     "metadata": {},
     "output_type": "execute_result"
    }
   ],
   "source": [
    "df_cars.iloc[77]['carname']"
   ]
  },
  {
   "cell_type": "markdown",
   "id": "9195706d-c962-4f77-bfe0-ff56ff138315",
   "metadata": {},
   "source": [
    "*How can we retrieve the rating ‘Indira’ gave to the movie ‘Annabelle’ in the df_movies dataframe?*"
   ]
  },
  {
   "cell_type": "code",
   "execution_count": 6,
   "id": "72ac4b61-7235-41ba-9c57-7ec8546e48e9",
   "metadata": {},
   "outputs": [
    {
     "data": {
      "text/html": [
       "<div>\n",
       "<style scoped>\n",
       "    .dataframe tbody tr th:only-of-type {\n",
       "        vertical-align: middle;\n",
       "    }\n",
       "\n",
       "    .dataframe tbody tr th {\n",
       "        vertical-align: top;\n",
       "    }\n",
       "\n",
       "    .dataframe thead th {\n",
       "        text-align: right;\n",
       "    }\n",
       "</style>\n",
       "<table border=\"1\" class=\"dataframe\">\n",
       "  <thead>\n",
       "    <tr style=\"text-align: right;\">\n",
       "      <th></th>\n",
       "      <th>Thor</th>\n",
       "      <th>Justice League</th>\n",
       "      <th>Spiderman</th>\n",
       "      <th>The Notebook</th>\n",
       "      <th>Casablanca</th>\n",
       "      <th>Beauty and the Beast</th>\n",
       "      <th>Dolittle</th>\n",
       "      <th>The Kissing Booth</th>\n",
       "      <th>Annabelle</th>\n",
       "      <th>Insidious</th>\n",
       "    </tr>\n",
       "    <tr>\n",
       "      <th>User</th>\n",
       "      <th></th>\n",
       "      <th></th>\n",
       "      <th></th>\n",
       "      <th></th>\n",
       "      <th></th>\n",
       "      <th></th>\n",
       "      <th></th>\n",
       "      <th></th>\n",
       "      <th></th>\n",
       "      <th></th>\n",
       "    </tr>\n",
       "  </thead>\n",
       "  <tbody>\n",
       "    <tr>\n",
       "      <th>Arnold</th>\n",
       "      <td>6</td>\n",
       "      <td>5</td>\n",
       "      <td>6</td>\n",
       "      <td>4</td>\n",
       "      <td>5</td>\n",
       "      <td>4</td>\n",
       "      <td>9</td>\n",
       "      <td>8</td>\n",
       "      <td>2</td>\n",
       "      <td>1</td>\n",
       "    </tr>\n",
       "    <tr>\n",
       "      <th>Ben</th>\n",
       "      <td>9</td>\n",
       "      <td>10</td>\n",
       "      <td>8</td>\n",
       "      <td>3</td>\n",
       "      <td>1</td>\n",
       "      <td>1</td>\n",
       "      <td>2</td>\n",
       "      <td>5</td>\n",
       "      <td>7</td>\n",
       "      <td>8</td>\n",
       "    </tr>\n",
       "    <tr>\n",
       "      <th>Catherine</th>\n",
       "      <td>10</td>\n",
       "      <td>8</td>\n",
       "      <td>9</td>\n",
       "      <td>5</td>\n",
       "      <td>6</td>\n",
       "      <td>7</td>\n",
       "      <td>8</td>\n",
       "      <td>5</td>\n",
       "      <td>9</td>\n",
       "      <td>9</td>\n",
       "    </tr>\n",
       "  </tbody>\n",
       "</table>\n",
       "</div>"
      ],
      "text/plain": [
       "           Thor  Justice League  Spiderman  The Notebook  Casablanca  \\\n",
       "User                                                                   \n",
       "Arnold        6               5          6             4           5   \n",
       "Ben           9              10          8             3           1   \n",
       "Catherine    10               8          9             5           6   \n",
       "\n",
       "           Beauty and the Beast  Dolittle  The Kissing Booth  Annabelle  \\\n",
       "User                                                                      \n",
       "Arnold                        4         9                  8          2   \n",
       "Ben                           1         2                  5          7   \n",
       "Catherine                     7         8                  5          9   \n",
       "\n",
       "           Insidious  \n",
       "User                  \n",
       "Arnold             1  \n",
       "Ben                8  \n",
       "Catherine          9  "
      ]
     },
     "execution_count": 6,
     "metadata": {},
     "output_type": "execute_result"
    }
   ],
   "source": [
    "df_movies.head(n=3)"
   ]
  },
  {
   "cell_type": "code",
   "execution_count": 7,
   "id": "c42f5838-7c20-4f55-967b-91cdf3aace1f",
   "metadata": {
    "scrolled": true
   },
   "outputs": [
    {
     "name": "stdout",
     "output_type": "stream",
     "text": [
      "Rating given by Indria to the movie Annabelle: 6\n"
     ]
    }
   ],
   "source": [
    "print (f\"Rating given by Indria to the movie Annabelle: {df_movies.loc[\"Indira\",\"Annabelle\"]}\")"
   ]
  },
  {
   "cell_type": "markdown",
   "id": "7bc45304-a46a-4c8c-9582-32190a07a3e8",
   "metadata": {},
   "source": [
    "*Write the Pandas code to select the rows for `Manish and Ravi`, but only the columns from `Thor through Spiderman`.*"
   ]
  },
  {
   "cell_type": "code",
   "execution_count": 8,
   "id": "50c8a313-b2b5-42b9-b6fa-3babf0d840b8",
   "metadata": {},
   "outputs": [
    {
     "data": {
      "text/html": [
       "<div>\n",
       "<style scoped>\n",
       "    .dataframe tbody tr th:only-of-type {\n",
       "        vertical-align: middle;\n",
       "    }\n",
       "\n",
       "    .dataframe tbody tr th {\n",
       "        vertical-align: top;\n",
       "    }\n",
       "\n",
       "    .dataframe thead th {\n",
       "        text-align: right;\n",
       "    }\n",
       "</style>\n",
       "<table border=\"1\" class=\"dataframe\">\n",
       "  <thead>\n",
       "    <tr style=\"text-align: right;\">\n",
       "      <th></th>\n",
       "      <th>Thor</th>\n",
       "      <th>Justice League</th>\n",
       "      <th>Spiderman</th>\n",
       "    </tr>\n",
       "    <tr>\n",
       "      <th>User</th>\n",
       "      <th></th>\n",
       "      <th></th>\n",
       "      <th></th>\n",
       "    </tr>\n",
       "  </thead>\n",
       "  <tbody>\n",
       "    <tr>\n",
       "      <th>Manish</th>\n",
       "      <td>7</td>\n",
       "      <td>6</td>\n",
       "      <td>6</td>\n",
       "    </tr>\n",
       "    <tr>\n",
       "      <th>Ravi</th>\n",
       "      <td>8</td>\n",
       "      <td>7</td>\n",
       "      <td>9</td>\n",
       "    </tr>\n",
       "  </tbody>\n",
       "</table>\n",
       "</div>"
      ],
      "text/plain": [
       "        Thor  Justice League  Spiderman\n",
       "User                                   \n",
       "Manish     7               6          6\n",
       "Ravi       8               7          9"
      ]
     },
     "execution_count": 8,
     "metadata": {},
     "output_type": "execute_result"
    }
   ],
   "source": [
    "df_movies.loc[['Manish', 'Ravi'], 'Thor':'Spiderman']"
   ]
  },
  {
   "cell_type": "markdown",
   "id": "c8a67b6b-72b1-4973-9af5-8bca9ee14598",
   "metadata": {},
   "source": [
    "*How can you determine the number of sedans in the df_cars dataframe?*"
   ]
  },
  {
   "cell_type": "code",
   "execution_count": 9,
   "id": "bde3ef09-063e-4bfd-ab08-e726bfb86fa7",
   "metadata": {},
   "outputs": [
    {
     "data": {
      "text/plain": [
       "96"
      ]
     },
     "execution_count": 9,
     "metadata": {},
     "output_type": "execute_result"
    }
   ],
   "source": [
    "df_cars[df_cars['carbody'] == 'sedan'].shape[0]"
   ]
  },
  {
   "cell_type": "code",
   "execution_count": 10,
   "id": "1bfaa5e6-0dcf-4816-9044-9c59b48b5af2",
   "metadata": {},
   "outputs": [
    {
     "data": {
      "text/plain": [
       "96"
      ]
     },
     "execution_count": 10,
     "metadata": {},
     "output_type": "execute_result"
    }
   ],
   "source": [
    "len(df_cars[df_cars['carbody'] == 'sedan'])"
   ]
  },
  {
   "cell_type": "markdown",
   "id": "feb899f1-79b2-4f3c-b127-cf44510b0e98",
   "metadata": {},
   "source": [
    "*Let’s say you want to know how many users in the df_movies dataframe rated more than 7 for Thor and Spiderman but rated 7 or less for Dolittle.*"
   ]
  },
  {
   "cell_type": "code",
   "execution_count": 11,
   "id": "0becce36-37b2-4863-a236-953d6e4a3dad",
   "metadata": {},
   "outputs": [
    {
     "name": "stdout",
     "output_type": "stream",
     "text": [
      "<class 'pandas.core.frame.DataFrame'>\n",
      "Index: 20 entries, Arnold to Tavneet\n",
      "Data columns (total 10 columns):\n",
      " #   Column                Non-Null Count  Dtype\n",
      "---  ------                --------------  -----\n",
      " 0   Thor                  20 non-null     int64\n",
      " 1   Justice League        20 non-null     int64\n",
      " 2   Spiderman             20 non-null     int64\n",
      " 3   The Notebook          20 non-null     int64\n",
      " 4   Casablanca            20 non-null     int64\n",
      " 5   Beauty and the Beast  20 non-null     int64\n",
      " 6   Dolittle              20 non-null     int64\n",
      " 7   The Kissing Booth     20 non-null     int64\n",
      " 8   Annabelle             20 non-null     int64\n",
      " 9   Insidious             20 non-null     int64\n",
      "dtypes: int64(10)\n",
      "memory usage: 2.3+ KB\n"
     ]
    }
   ],
   "source": [
    "df_movies.info()"
   ]
  },
  {
   "cell_type": "code",
   "execution_count": 12,
   "id": "6ca6f220-788d-4b11-851b-619aba40406f",
   "metadata": {},
   "outputs": [
    {
     "data": {
      "text/plain": [
       "6"
      ]
     },
     "execution_count": 12,
     "metadata": {},
     "output_type": "execute_result"
    }
   ],
   "source": [
    "df_movies [(df_movies['Thor'] > 7) & (df_movies['Spiderman'] > 7) & (df_movies['Dolittle'] <= 7)][['Thor','Spiderman','Dolittle']].shape[0]"
   ]
  }
 ],
 "metadata": {
  "kernelspec": {
   "display_name": "Python 3 (ipykernel)",
   "language": "python",
   "name": "python3"
  },
  "language_info": {
   "codemirror_mode": {
    "name": "ipython",
    "version": 3
   },
   "file_extension": ".py",
   "mimetype": "text/x-python",
   "name": "python",
   "nbconvert_exporter": "python",
   "pygments_lexer": "ipython3",
   "version": "3.12.7"
  }
 },
 "nbformat": 4,
 "nbformat_minor": 5
}
